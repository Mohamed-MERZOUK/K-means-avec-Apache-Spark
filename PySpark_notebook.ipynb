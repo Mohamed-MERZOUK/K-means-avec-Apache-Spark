{
 "cells": [
  {
   "cell_type": "code",
   "execution_count": null,
   "metadata": {
    "id": "A5h_cosg5zuL"
   },
   "outputs": [],
   "source": [
    "!pip install ipython-autotime\n",
    "%load_ext autotime"
   ]
  },
  {
   "cell_type": "markdown",
   "metadata": {
    "id": "cpuI1DeHZJhI"
   },
   "source": [
    "# **Mise en place de l’environnement de travail**\n",
    "\n"
   ]
  },
  {
   "cell_type": "markdown",
   "metadata": {
    "id": "Wtt7RQrtTxgp"
   },
   "source": [
    "## Installation de PySpark"
   ]
  },
  {
   "cell_type": "code",
   "execution_count": 2,
   "metadata": {
    "colab": {
     "base_uri": "https://localhost:8080/"
    },
    "id": "_EfPRLs2Sjwl",
    "outputId": "0a0941bb-062c-4d11-dbfa-2a2e84313027"
   },
   "outputs": [
    {
     "name": "stdout",
     "output_type": "stream",
     "text": [
      "time: 19.5 s (started: 2021-05-30 20:04:39 +00:00)\n"
     ]
    }
   ],
   "source": [
    "!apt-get install openjdk-8-jdk-headless -qq > /dev/null\n",
    "!wget -q https://www-us.apache.org/dist/spark/spark-3.1.1/spark-3.1.1-bin-hadoop2.7.tgz\n",
    "!tar xf spark-3.1.1-bin-hadoop2.7.tgz\n",
    "!pip install -q findspark"
   ]
  },
  {
   "cell_type": "code",
   "execution_count": 3,
   "metadata": {
    "colab": {
     "base_uri": "https://localhost:8080/"
    },
    "id": "PvQAbaLUT438",
    "outputId": "037fd40b-0183-45f0-f065-12f54c2bde23"
   },
   "outputs": [
    {
     "name": "stdout",
     "output_type": "stream",
     "text": [
      "time: 2.61 ms (started: 2021-05-30 20:04:59 +00:00)\n"
     ]
    }
   ],
   "source": [
    "import os\n",
    "os.environ[\"JAVA_HOME\"] = \"/usr/lib/jvm/java-8-openjdk-amd64\"\n",
    "os.environ[\"SPARK_HOME\"] = \"/content/spark-3.1.1-bin-hadoop2.7\""
   ]
  },
  {
   "cell_type": "code",
   "execution_count": 4,
   "metadata": {
    "colab": {
     "base_uri": "https://localhost:8080/"
    },
    "id": "o-H7bhGjT9im",
    "outputId": "322ddaff-2706-4b09-e267-22bd7bd48969"
   },
   "outputs": [
    {
     "name": "stdout",
     "output_type": "stream",
     "text": [
      "time: 3.38 ms (started: 2021-05-30 20:04:59 +00:00)\n"
     ]
    }
   ],
   "source": [
    "import findspark\n",
    "findspark.init(\"spark-3.1.1-bin-hadoop2.7\")"
   ]
  },
  {
   "cell_type": "markdown",
   "metadata": {
    "id": "bvjOISsxWHm7"
   },
   "source": [
    "## Création de l'objet SparkContext"
   ]
  },
  {
   "cell_type": "code",
   "execution_count": 5,
   "metadata": {
    "colab": {
     "base_uri": "https://localhost:8080/"
    },
    "id": "hNu4X9mCWG3V",
    "outputId": "c4241352-0c95-46e5-aa2f-c6279aab41d0"
   },
   "outputs": [
    {
     "name": "stdout",
     "output_type": "stream",
     "text": [
      "time: 6.16 s (started: 2021-05-30 20:04:59 +00:00)\n"
     ]
    }
   ],
   "source": [
    "# L'objet sparkContext sc\n",
    "from pyspark import SparkContext, SparkConf\n",
    "conf = SparkConf().setAppName(\"ProjectApp\").setMaster(\"local[4]\")\n",
    "sc = SparkContext(conf=conf)"
   ]
  },
  {
   "cell_type": "markdown",
   "metadata": {
    "id": "6vUmrmLtVOIU"
   },
   "source": [
    "## Création de l'objet SparkSession"
   ]
  },
  {
   "cell_type": "code",
   "execution_count": 6,
   "metadata": {
    "colab": {
     "base_uri": "https://localhost:8080/"
    },
    "id": "64y3TPrdUFy2",
    "outputId": "bb4a889c-a8ff-4ccb-e4ea-a81a6d1d09a2"
   },
   "outputs": [
    {
     "name": "stdout",
     "output_type": "stream",
     "text": [
      "time: 1.59 s (started: 2021-05-30 20:05:05 +00:00)\n"
     ]
    }
   ],
   "source": [
    "# L'objet sparkSession créé pour utiliser l'API Spark SQL\n",
    "from pyspark.sql import SparkSession\n",
    "spark = SparkSession.builder.config(conf=conf).getOrCreate()"
   ]
  },
  {
   "cell_type": "markdown",
   "metadata": {
    "id": "pXDzPqiqZUpz"
   },
   "source": [
    "# **Données**"
   ]
  },
  {
   "cell_type": "markdown",
   "metadata": {
    "id": "2CBLtPacYWrs"
   },
   "source": [
    "## Génération de données"
   ]
  },
  {
   "cell_type": "code",
   "execution_count": 7,
   "metadata": {
    "colab": {
     "base_uri": "https://localhost:8080/"
    },
    "id": "E7EdsYabVKUa",
    "outputId": "ae78c746-19d3-477c-ebcf-147c6e8248ef"
   },
   "outputs": [
    {
     "name": "stdout",
     "output_type": "stream",
     "text": [
      "time: 417 ms (started: 2021-05-30 20:05:07 +00:00)\n"
     ]
    },
    {
     "name": "stderr",
     "output_type": "stream",
     "text": [
      "/usr/local/lib/python3.7/dist-packages/sklearn/utils/deprecation.py:144: FutureWarning: The sklearn.datasets.samples_generator module is  deprecated in version 0.22 and will be removed in version 0.24. The corresponding classes / functions should instead be imported from sklearn.datasets. Anything that cannot be imported from sklearn.datasets is now part of the private API.\n",
      "  warnings.warn(message, FutureWarning)\n"
     ]
    }
   ],
   "source": [
    "from sklearn.datasets.samples_generator import make_blobs \n",
    "\n",
    "X1, y1_true = make_blobs(n_samples=1200, centers=4, n_features=2,\n",
    "                       cluster_std=1.50, random_state=40)\n",
    "\n",
    "X2, y2_true = make_blobs(n_samples=1500, centers=4, n_features=3,\n",
    "                       cluster_std=1.00, random_state=41)\n",
    "\n",
    "X3, y3_true = make_blobs(n_samples=2000, centers=4, n_features=5,\n",
    "                       cluster_std=0.50, random_state=42)"
   ]
  },
  {
   "cell_type": "markdown",
   "metadata": {
    "id": "AxIZxJu6ZbzN"
   },
   "source": [
    "## Création du RDD"
   ]
  },
  {
   "cell_type": "code",
   "execution_count": 8,
   "metadata": {
    "colab": {
     "base_uri": "https://localhost:8080/"
    },
    "id": "Yae0qyHhap8s",
    "outputId": "1ae72697-7732-4b0f-d509-9d54395f7b9c"
   },
   "outputs": [
    {
     "name": "stdout",
     "output_type": "stream",
     "text": [
      "time: 15.7 ms (started: 2021-05-30 20:05:07 +00:00)\n"
     ]
    }
   ],
   "source": [
    "def totupleliste(X,Y):\n",
    "  t = []\n",
    "  for x,y in zip(X.tolist(),Y.tolist()):\n",
    "    x.append(y)\n",
    "    t.append(tuple(x))\n",
    "  return t\n",
    "\n",
    "t1 = totupleliste(X1,y1_true)\n",
    "t2 = totupleliste(X2,y2_true)\n",
    "t3 = totupleliste(X3,y3_true)"
   ]
  },
  {
   "cell_type": "code",
   "execution_count": 9,
   "metadata": {
    "colab": {
     "base_uri": "https://localhost:8080/"
    },
    "id": "zR3lzAzQYxRn",
    "outputId": "9d50507b-6f0a-4609-9ab0-7093de75f771"
   },
   "outputs": [
    {
     "name": "stdout",
     "output_type": "stream",
     "text": [
      "time: 729 ms (started: 2021-05-30 20:05:07 +00:00)\n"
     ]
    }
   ],
   "source": [
    "rdd1 = sc.parallelize(t1)\n",
    "rdd2 = sc.parallelize(t2)\n",
    "rdd3 = sc.parallelize(t3)"
   ]
  },
  {
   "cell_type": "markdown",
   "metadata": {
    "id": "6N6WaTKtnGd5"
   },
   "source": [
    "## Création du Dataframe"
   ]
  },
  {
   "cell_type": "code",
   "execution_count": 10,
   "metadata": {
    "colab": {
     "base_uri": "https://localhost:8080/"
    },
    "id": "YzNphZ9TalxP",
    "outputId": "dd308fbe-c78d-4571-e3f4-2e17785d59c6"
   },
   "outputs": [
    {
     "name": "stdout",
     "output_type": "stream",
     "text": [
      "root\n",
      " |-- x1: double (nullable = true)\n",
      " |-- x2: double (nullable = true)\n",
      " |-- class: long (nullable = true)\n",
      "\n",
      "+--------------------+-------------------+-----+\n",
      "|x1                  |x2                 |class|\n",
      "+--------------------+-------------------+-----+\n",
      "|0.2080319426274464  |-11.44677632321588 |0    |\n",
      "|7.3310176294246965  |-1.996983823103407 |1    |\n",
      "|4.640867191595549   |-5.355819950141177 |1    |\n",
      "|-0.6857422100702182 |-9.515901277351507 |0    |\n",
      "|0.18280697659597167 |-4.034624313988483 |2    |\n",
      "|-0.6550241303923521 |3.230069616391547  |3    |\n",
      "|0.52935446268629    |1.9017019733897742 |3    |\n",
      "|-6.21461475410652   |-9.485459117246883 |0    |\n",
      "|0.8065105255722425  |3.688581698331709  |3    |\n",
      "|5.518886530401512   |-1.7976214232019094|1    |\n",
      "|4.643418767326436   |-5.427985411090114 |1    |\n",
      "|-0.9388461464082694 |-3.217722273838516 |2    |\n",
      "|-1.7466189389261682 |2.66481075818763   |3    |\n",
      "|2.8408316670107663  |-1.0583788115599466|2    |\n",
      "|4.60881086980905    |-3.5286741031573725|1    |\n",
      "|-3.2126087203079257 |-5.028837961362077 |2    |\n",
      "|-0.43147875808282476|-8.599973119816232 |0    |\n",
      "|2.666542260522646   |1.1847327509985517 |3    |\n",
      "|1.927842008094732   |-3.7681838866348016|2    |\n",
      "|1.5537674277951257  |4.934463398750513  |3    |\n",
      "+--------------------+-------------------+-----+\n",
      "only showing top 20 rows\n",
      "\n",
      "time: 7.23 s (started: 2021-05-30 20:05:08 +00:00)\n"
     ]
    }
   ],
   "source": [
    "deptColumns = [\"x1\",\"x2\",\"class\"]\n",
    "df1 = rdd1.toDF(deptColumns)\n",
    "\n",
    "deptColumns = [\"x1\",\"x2\",\"x3\",\"class\"]\n",
    "df2 = rdd2.toDF(deptColumns)\n",
    "\n",
    "deptColumns = [\"x1\",\"x2\",\"x3\",\"x4\",\"x5\",\"class\"]\n",
    "df3 = rdd3.toDF(deptColumns)\n",
    "\n",
    "df1.printSchema()\n",
    "df1.show(truncate=False)"
   ]
  },
  {
   "cell_type": "markdown",
   "metadata": {
    "id": "F28Ofp9gs7OU"
   },
   "source": [
    "# **Analyse descriptive**\n"
   ]
  },
  {
   "cell_type": "code",
   "execution_count": 11,
   "metadata": {
    "colab": {
     "base_uri": "https://localhost:8080/"
    },
    "id": "tcGlOD4Cf54-",
    "outputId": "aee4d44a-48e2-4e46-e8e8-3e0e8fb0a93b"
   },
   "outputs": [
    {
     "name": "stdout",
     "output_type": "stream",
     "text": [
      "Shape of data1 : (1200, 2)\n",
      "Shape of data2 : (1500, 3)\n",
      "Shape of data3 : (2000, 5)\n",
      "time: 4.21 ms (started: 2021-05-30 20:05:15 +00:00)\n"
     ]
    }
   ],
   "source": [
    "print(\"Shape of data1 : \" + str(X1.shape))\n",
    "print(\"Shape of data2 : \" + str(X2.shape))\n",
    "print(\"Shape of data3 : \" + str(X3.shape))"
   ]
  },
  {
   "cell_type": "markdown",
   "metadata": {
    "id": "Q8g-WdPGwdQc"
   },
   "source": [
    "### Visualisation en utilisant les 2 premières dimensions"
   ]
  },
  {
   "cell_type": "code",
   "execution_count": 12,
   "metadata": {
    "colab": {
     "base_uri": "https://localhost:8080/",
     "height": 219
    },
    "id": "riG1aQ5PYet4",
    "outputId": "66ce5b73-41b2-4d3b-8c25-c8312d0039c5"
   },
   "outputs": [
    {
     "data": {
      "image/png": "[encoded data removed]",
      "text/plain": [
       "<Figure size 1080x216 with 3 Axes>"
      ]
     },
     "metadata": {
      "needs_background": "light",
      "tags": []
     },
     "output_type": "display_data"
    },
    {
     "name": "stdout",
     "output_type": "stream",
     "text": [
      "time: 857 ms (started: 2021-05-30 20:05:15 +00:00)\n"
     ]
    }
   ],
   "source": [
    "import matplotlib.pyplot as plt\n",
    "plt.figure(figsize=(15,3))\n",
    "\n",
    "plt.subplot(131)\n",
    "plt.scatter(X1[:, 0], X1[:, 1], s=10)\n",
    "plt.title(\"Data 1\")\n",
    "\n",
    "plt.subplot(132)\n",
    "plt.scatter(X2[:, 0], X2[:, 1], s=10)\n",
    "plt.title(\"Data 2\")\n",
    "\n",
    "plt.subplot(133)\n",
    "plt.scatter(X3[:, 0], X3[:, 1], s=10)\n",
    "plt.title(\"Data 3\")\n",
    "\n",
    "plt.savefig('analyse.png')"
   ]
  },
  {
   "cell_type": "markdown",
   "metadata": {
    "id": "GjrR4sRQwDzb"
   },
   "source": [
    "# **Clustering**"
   ]
  },
  {
   "cell_type": "markdown",
   "metadata": {
    "id": "l_7XCCzOwLwf"
   },
   "source": [
    "### En utulisant Scikit-learn"
   ]
  },
  {
   "cell_type": "code",
   "execution_count": 13,
   "metadata": {
    "colab": {
     "base_uri": "https://localhost:8080/"
    },
    "id": "vLV1dOrJwExZ",
    "outputId": "5d0de026-26df-452a-9654-96cea2511b64"
   },
   "outputs": [
    {
     "name": "stdout",
     "output_type": "stream",
     "text": [
      "time: 337 ms (started: 2021-05-30 20:05:16 +00:00)\n"
     ]
    }
   ],
   "source": [
    "from sklearn.cluster import KMeans as Kmeans_sklearn_algo\n",
    "def kmeans_sklearn(df):\n",
    "  kmeans = Kmeans_sklearn_algo(n_clusters=4) \n",
    "  kmeans.fit(df)\n",
    "  return kmeans\n",
    "\n",
    "kmeans_sklearn1 = kmeans_sklearn(X1)\n",
    "y1_kmeans_sklearn = kmeans_sklearn1.predict(X1)\n",
    "\n",
    "kmeans_sklearn2 = kmeans_sklearn(X2)\n",
    "y2_kmeans_sklearn = kmeans_sklearn2.predict(X2)\n",
    "\n",
    "kmeans_sklearn3 = kmeans_sklearn(X3)\n",
    "y3_kmeans_sklearn = kmeans_sklearn3.predict(X3)"
   ]
  },
  {
   "cell_type": "code",
   "execution_count": 14,
   "metadata": {
    "colab": {
     "base_uri": "https://localhost:8080/",
     "height": 236
    },
    "id": "FF7SOP-cwavE",
    "outputId": "8b8e6c42-cd3b-4fbf-c427-aae815512ab1"
   },
   "outputs": [
    {
     "data": {
      "text/plain": [
       "Text(0.5, 1.0, 'Data 3')"
      ]
     },
     "execution_count": 14,
     "metadata": {
      "tags": []
     },
     "output_type": "execute_result"
    },
    {
     "data": {
      "image/png": "[encoded data removed]",
      "text/plain": [
       "<Figure size 1080x216 with 3 Axes>"
      ]
     },
     "metadata": {
      "needs_background": "light",
      "tags": []
     },
     "output_type": "display_data"
    },
    {
     "name": "stdout",
     "output_type": "stream",
     "text": [
      "time: 844 ms (started: 2021-05-30 20:05:16 +00:00)\n"
     ]
    }
   ],
   "source": [
    "def plot_kmeans(df, model, pred):\n",
    "  plt.scatter(df[:, 0], df[:, 1], c=pred, s=20, cmap='viridis')\n",
    "  centers = model.cluster_centers_\n",
    "  plt.scatter(centers[:, 0], centers[:, 1], c='red', s=200, alpha=0.5)\n",
    "\n",
    "plt.figure(figsize=(15,3))\n",
    "\n",
    "plt.subplot(131)\n",
    "plot_kmeans(X1, kmeans_sklearn1, y1_kmeans_sklearn)\n",
    "plt.title(\"Data 1\")\n",
    "\n",
    "plt.subplot(132)\n",
    "plot_kmeans(X2, kmeans_sklearn2, y2_kmeans_sklearn)\n",
    "plt.title(\"Data 2\")\n",
    "\n",
    "plt.subplot(133)\n",
    "plot_kmeans(X3, kmeans_sklearn3, y3_kmeans_sklearn)\n",
    "plt.title(\"Data 3\")\n"
   ]
  },
  {
   "cell_type": "markdown",
   "metadata": {
    "id": "UmODK6FAxi1y"
   },
   "source": [
    "### En utilisant Spark"
   ]
  },
  {
   "cell_type": "code",
   "execution_count": 15,
   "metadata": {
    "colab": {
     "base_uri": "https://localhost:8080/"
    },
    "id": "lS0RCFZiwsSE",
    "outputId": "ee212e4a-c354-473c-8b22-f398bfab79b9"
   },
   "outputs": [
    {
     "name": "stdout",
     "output_type": "stream",
     "text": [
      "time: 16.8 s (started: 2021-05-30 20:05:17 +00:00)\n"
     ]
    }
   ],
   "source": [
    "from pyspark.ml.clustering import KMeans as Kmeans_spark_algo\n",
    "from pyspark.ml.feature import VectorAssembler\n",
    "\n",
    "def kmeans_spark(df):\n",
    "  vecAssembler = VectorAssembler(inputCols=[\"x1\", \"x2\"], outputCol=\"features\")\n",
    "  new_df = vecAssembler.transform(df)\n",
    "  kmeans = Kmeans_spark_algo(k=4, seed=1)\n",
    "  model = kmeans.fit(new_df.select('features'))\n",
    "  predictions = model.transform(new_df)\n",
    "  return predictions\n",
    "\n",
    "y1_kmeans_spark = kmeans_spark(df1)\n",
    "y2_kmeans_spark = kmeans_spark(df2)\n",
    "y3_kmeans_spark = kmeans_spark(df3)"
   ]
  },
  {
   "cell_type": "code",
   "execution_count": 16,
   "metadata": {
    "colab": {
     "base_uri": "https://localhost:8080/",
     "height": 222
    },
    "id": "EcZ6DQr0uRhY",
    "outputId": "cb537cb1-ef98-42d6-ebe4-4507b0eddc71"
   },
   "outputs": [
    {
     "data": {
      "text/plain": [
       "<matplotlib.collections.PathCollection at 0x7ff34d93d910>"
      ]
     },
     "execution_count": 16,
     "metadata": {
      "tags": []
     },
     "output_type": "execute_result"
    },
    {
     "data": {
      "image/png": "[encoded data removed]",
      "text/plain": [
       "<Figure size 1080x216 with 3 Axes>"
      ]
     },
     "metadata": {
      "needs_background": "light",
      "tags": []
     },
     "output_type": "display_data"
    },
    {
     "name": "stdout",
     "output_type": "stream",
     "text": [
      "time: 1.58 s (started: 2021-05-30 20:05:34 +00:00)\n"
     ]
    }
   ],
   "source": [
    "plt.figure(figsize=(15,3))\n",
    "\n",
    "plt.subplot(131)\n",
    "y1_kmeans_spark = list(y1_kmeans_spark.select('prediction').toPandas()['prediction'])\n",
    "plt.scatter(X1[:, 0], X1[:, 1], c=y1_kmeans_spark, s=20, cmap='viridis')\n",
    "\n",
    "plt.subplot(132)\n",
    "y2_kmeans_spark = list(y2_kmeans_spark.select('prediction').toPandas()['prediction'])\n",
    "plt.scatter(X2[:, 0], X2[:, 1], c=y2_kmeans_spark, s=20, cmap='viridis')\n",
    "\n",
    "plt.subplot(133)\n",
    "y3_kmeans_spark = list(y3_kmeans_spark.select('prediction').toPandas()['prediction'])\n",
    "plt.scatter(X3[:, 0], X3[:, 1], c=y3_kmeans_spark, s=20, cmap='viridis')"
   ]
  },
  {
   "cell_type": "markdown",
   "metadata": {
    "id": "vgSF87wY32vv"
   },
   "source": [
    "### Evaluation des performances"
   ]
  },
  {
   "cell_type": "markdown",
   "metadata": {
    "id": "fD3zbG9z-bz5"
   },
   "source": [
    "**Sklearn**"
   ]
  },
  {
   "cell_type": "code",
   "execution_count": 17,
   "metadata": {
    "colab": {
     "base_uri": "https://localhost:8080/"
    },
    "id": "Pel2qGfRz60y",
    "outputId": "b22b799c-8440-4b7c-9e11-402658beabd9"
   },
   "outputs": [
    {
     "name": "stdout",
     "output_type": "stream",
     "text": [
      "NMI - Data1 - Sklearn : 0.8610095321297618\n",
      "NMI - Data2 - Sklearn : 0.9767976507403721\n",
      "NMI - Data3 - Sklearn : 1.0\n",
      "time: 19.1 ms (started: 2021-05-30 20:05:35 +00:00)\n"
     ]
    }
   ],
   "source": [
    "from sklearn.metrics import normalized_mutual_info_score\n",
    "print(\"NMI - Data1 - Sklearn : \" + str(normalized_mutual_info_score(y1_true, y1_kmeans_sklearn)))\n",
    "print(\"NMI - Data2 - Sklearn : \" + str(normalized_mutual_info_score(y2_true, y2_kmeans_sklearn)))\n",
    "print(\"NMI - Data3 - Sklearn : \" + str(normalized_mutual_info_score(y3_true, y3_kmeans_sklearn)))"
   ]
  },
  {
   "cell_type": "markdown",
   "metadata": {
    "id": "lHJUsng0-ezC"
   },
   "source": [
    "**Spark**"
   ]
  },
  {
   "cell_type": "code",
   "execution_count": 18,
   "metadata": {
    "colab": {
     "base_uri": "https://localhost:8080/"
    },
    "id": "nBokyVAx3YQM",
    "outputId": "12013380-f8ea-4da1-e69b-d8e08a267025"
   },
   "outputs": [
    {
     "name": "stdout",
     "output_type": "stream",
     "text": [
      "NMI - Data1 - Spark : 0.8610095321297617\n",
      "NMI - Data2 - Spark : 0.9707339672174148\n",
      "NMI - Data3 - Spark : 1.0\n",
      "time: 17.6 ms (started: 2021-05-30 20:05:36 +00:00)\n"
     ]
    }
   ],
   "source": [
    "print(\"NMI - Data1 - Spark : \" + str(normalized_mutual_info_score(y1_true, y1_kmeans_spark)))\n",
    "print(\"NMI - Data2 - Spark : \" + str(normalized_mutual_info_score(y2_true, y2_kmeans_spark)))\n",
    "print(\"NMI - Data3 - Spark : \" + str(normalized_mutual_info_score(y3_true, y3_kmeans_spark)))"
   ]
  },
  {
   "cell_type": "markdown",
   "metadata": {
    "id": "lTccANtU8_yd"
   },
   "source": [
    "### Temps d'executions"
   ]
  },
  {
   "cell_type": "markdown",
   "metadata": {
    "id": "h4VDyPzq9VRB"
   },
   "source": [
    "**Sklearn**"
   ]
  },
  {
   "cell_type": "code",
   "execution_count": 19,
   "metadata": {
    "colab": {
     "base_uri": "https://localhost:8080/"
    },
    "id": "C5WuNsz99B23",
    "outputId": "97daa4ca-2e69-4205-f0b4-8b90cdf4a3a5"
   },
   "outputs": [
    {
     "data": {
      "text/plain": [
       "KMeans(algorithm='auto', copy_x=True, init='k-means++', max_iter=300,\n",
       "       n_clusters=4, n_init=10, n_jobs=None, precompute_distances='auto',\n",
       "       random_state=None, tol=0.0001, verbose=0)"
      ]
     },
     "execution_count": 19,
     "metadata": {
      "tags": []
     },
     "output_type": "execute_result"
    },
    {
     "name": "stdout",
     "output_type": "stream",
     "text": [
      "time: 91.1 ms (started: 2021-05-30 20:05:36 +00:00)\n"
     ]
    }
   ],
   "source": [
    "kmeans_sklearn(X1)"
   ]
  },
  {
   "cell_type": "code",
   "execution_count": 20,
   "metadata": {
    "colab": {
     "base_uri": "https://localhost:8080/"
    },
    "id": "5uHkvvuytnC4",
    "outputId": "f6f5d381-fc42-4f59-ae2b-edcc59f9e785"
   },
   "outputs": [
    {
     "data": {
      "text/plain": [
       "KMeans(algorithm='auto', copy_x=True, init='k-means++', max_iter=300,\n",
       "       n_clusters=4, n_init=10, n_jobs=None, precompute_distances='auto',\n",
       "       random_state=None, tol=0.0001, verbose=0)"
      ]
     },
     "execution_count": 20,
     "metadata": {
      "tags": []
     },
     "output_type": "execute_result"
    },
    {
     "name": "stdout",
     "output_type": "stream",
     "text": [
      "time: 57.1 ms (started: 2021-05-30 20:05:36 +00:00)\n"
     ]
    }
   ],
   "source": [
    "kmeans_sklearn(X2)"
   ]
  },
  {
   "cell_type": "code",
   "execution_count": 21,
   "metadata": {
    "colab": {
     "base_uri": "https://localhost:8080/"
    },
    "id": "ChUNOKDNtndt",
    "outputId": "866c5bb1-3762-48c6-b338-de9c20947bf3"
   },
   "outputs": [
    {
     "data": {
      "text/plain": [
       "KMeans(algorithm='auto', copy_x=True, init='k-means++', max_iter=300,\n",
       "       n_clusters=4, n_init=10, n_jobs=None, precompute_distances='auto',\n",
       "       random_state=None, tol=0.0001, verbose=0)"
      ]
     },
     "execution_count": 21,
     "metadata": {
      "tags": []
     },
     "output_type": "execute_result"
    },
    {
     "name": "stdout",
     "output_type": "stream",
     "text": [
      "time: 87.5 ms (started: 2021-05-30 20:05:36 +00:00)\n"
     ]
    }
   ],
   "source": [
    "kmeans_sklearn(X3)"
   ]
  },
  {
   "cell_type": "markdown",
   "metadata": {
    "id": "jJovvvXu-YsA"
   },
   "source": [
    "**Spark**"
   ]
  },
  {
   "cell_type": "code",
   "execution_count": 22,
   "metadata": {
    "colab": {
     "base_uri": "https://localhost:8080/"
    },
    "id": "zgoF-4hE9kHN",
    "outputId": "6bb10615-985c-40c8-9f9b-a12139263c23"
   },
   "outputs": [
    {
     "data": {
      "text/plain": [
       "DataFrame[x1: double, x2: double, class: bigint, features: vector, prediction: int]"
      ]
     },
     "execution_count": 22,
     "metadata": {
      "tags": []
     },
     "output_type": "execute_result"
    },
    {
     "name": "stdout",
     "output_type": "stream",
     "text": [
      "time: 2.86 s (started: 2021-05-30 20:05:36 +00:00)\n"
     ]
    }
   ],
   "source": [
    "kmeans_spark(df1)"
   ]
  },
  {
   "cell_type": "code",
   "execution_count": 23,
   "metadata": {
    "colab": {
     "base_uri": "https://localhost:8080/"
    },
    "id": "E5SIhoIxtppb",
    "outputId": "d2b0b611-07a0-4be5-e717-07fd77ef8796"
   },
   "outputs": [
    {
     "data": {
      "text/plain": [
       "DataFrame[x1: double, x2: double, x3: double, class: bigint, features: vector, prediction: int]"
      ]
     },
     "execution_count": 23,
     "metadata": {
      "tags": []
     },
     "output_type": "execute_result"
    },
    {
     "name": "stdout",
     "output_type": "stream",
     "text": [
      "time: 2.59 s (started: 2021-05-30 20:05:39 +00:00)\n"
     ]
    }
   ],
   "source": [
    "kmeans_spark(df2)"
   ]
  },
  {
   "cell_type": "code",
   "execution_count": 24,
   "metadata": {
    "colab": {
     "base_uri": "https://localhost:8080/"
    },
    "id": "TcY9Xk1XtpvL",
    "outputId": "e1164001-d166-41bc-cdc5-5d9fdd9d216f"
   },
   "outputs": [
    {
     "data": {
      "text/plain": [
       "DataFrame[x1: double, x2: double, x3: double, x4: double, x5: double, class: bigint, features: vector, prediction: int]"
      ]
     },
     "execution_count": 24,
     "metadata": {
      "tags": []
     },
     "output_type": "execute_result"
    },
    {
     "name": "stdout",
     "output_type": "stream",
     "text": [
      "time: 2.42 s (started: 2021-05-30 20:05:41 +00:00)\n"
     ]
    }
   ],
   "source": [
    "kmeans_spark(df3)"
   ]
  },
  {
   "cell_type": "markdown",
   "metadata": {
    "id": "QPHdLpvJ_Jyf"
   },
   "source": [
    "# **Implémentation du k-means**\n",
    "\n"
   ]
  },
  {
   "cell_type": "markdown",
   "metadata": {
    "id": "1rqqbXJfmvay"
   },
   "source": [
    "## Construction des fonctions"
   ]
  },
  {
   "cell_type": "code",
   "execution_count": 25,
   "metadata": {
    "colab": {
     "base_uri": "https://localhost:8080/"
    },
    "id": "vLN951ij_NuC",
    "outputId": "c6776bba-842c-4311-d850-05116ac7e8d4"
   },
   "outputs": [
    {
     "name": "stdout",
     "output_type": "stream",
     "text": [
      "time: 26.6 ms (started: 2021-05-30 20:05:44 +00:00)\n"
     ]
    }
   ],
   "source": [
    "import numpy as np\n",
    "\n",
    "def compute_centroids(points, cluster_ids):\n",
    "  rdd = sc.parallelize(list(zip(cluster_ids, points)))\n",
    "  sum_by_cluster_id = rdd.reduceByKey(lambda a,b : list(np.array(a)+np.array(b)))\n",
    "  count_by_cluster_id = rdd.mapValues(lambda x : 1).reduceByKey(lambda a,b : a+b)\n",
    "  joined_count_sum = sum_by_cluster_id.join(count_by_cluster_id)\n",
    "  moyenne_cluster_id = joined_count_sum.map(lambda x : (x[0], list(np.array(x[1][0])/x[1][1])))\n",
    "\n",
    "  return moyenne_cluster_id"
   ]
  },
  {
   "cell_type": "code",
   "execution_count": 26,
   "metadata": {
    "colab": {
     "base_uri": "https://localhost:8080/"
    },
    "id": "ynLY0JPaDIqP",
    "outputId": "3f023cab-ec5d-4843-c28f-dd46199c9395"
   },
   "outputs": [
    {
     "name": "stdout",
     "output_type": "stream",
     "text": [
      "time: 4.85 ms (started: 2021-05-30 20:05:44 +00:00)\n"
     ]
    }
   ],
   "source": [
    "def squared_distances(point, moyennes):\n",
    "  sq = pow((np.array(moyennes) - point), 2)\n",
    "\n",
    "  if sq.ndim==1:  #cas unidimentionnel\n",
    "    return list(sq)\n",
    "  else:           #cas bidimentionnel\n",
    "    return list(np.sum(sq,axis=1))"
   ]
  },
  {
   "cell_type": "code",
   "execution_count": 27,
   "metadata": {
    "colab": {
     "base_uri": "https://localhost:8080/"
    },
    "id": "I9g1E1gXEEmr",
    "outputId": "16dd7d89-da89-4353-b0d9-63554fa0d56c"
   },
   "outputs": [
    {
     "name": "stdout",
     "output_type": "stream",
     "text": [
      "time: 12.3 ms (started: 2021-05-30 20:05:44 +00:00)\n"
     ]
    }
   ],
   "source": [
    "def assign_clusters(points, centroids):\n",
    "  cds = centroids.collect()\n",
    "  moyennes = [m for c,m in cds]\n",
    "  pts = []\n",
    "  for p in points:\n",
    "    sq_dist = squared_distances(p, moyennes)\n",
    "    pts.append(np.argmin(sq_dist))\n",
    "  rdd_assign = sc.parallelize(pts)\n",
    "  return rdd_assign"
   ]
  },
  {
   "cell_type": "code",
   "execution_count": 51,
   "metadata": {
    "colab": {
     "base_uri": "https://localhost:8080/"
    },
    "id": "YX5t11CZFRIu",
    "outputId": "01a93582-34ab-46e7-ebc2-e592fa9fe7b9"
   },
   "outputs": [
    {
     "name": "stdout",
     "output_type": "stream",
     "text": [
      "time: 8.98 ms (started: 2021-05-30 20:08:01 +00:00)\n"
     ]
    }
   ],
   "source": [
    "def k_means(data, k, maxIter=256):\n",
    "  clusters = sc.parallelize(np.random.randint(size=len(data), low=0, high=k))\n",
    "  cl = clusters.collect()\n",
    "  for n in range(maxIter):\n",
    "    centroids = compute_centroids(data, clusters.collect())\n",
    "    clusters = assign_clusters(data, centroids)\n",
    "    if cl==clusters.collect():\n",
    "      break\n",
    "    else:\n",
    "      cl = list(clusters.collect())\n",
    "  return clusters"
   ]
  },
  {
   "cell_type": "code",
   "execution_count": 52,
   "metadata": {
    "colab": {
     "base_uri": "https://localhost:8080/"
    },
    "id": "qsuTXVMVoPlC",
    "outputId": "24fcae90-9196-47e8-a2d1-842e9815d701"
   },
   "outputs": [
    {
     "name": "stdout",
     "output_type": "stream",
     "text": [
      "time: 6.74 s (started: 2021-05-30 20:08:01 +00:00)\n"
     ]
    }
   ],
   "source": [
    "y1_kmeans_ours = k_means(X1,k=4)\n",
    "y2_kmeans_ours = k_means(X2,k=4)\n",
    "y3_kmeans_ours = k_means(X3,k=4)"
   ]
  },
  {
   "cell_type": "code",
   "execution_count": 53,
   "metadata": {
    "colab": {
     "base_uri": "https://localhost:8080/",
     "height": 205
    },
    "id": "ViZGg9NHoawh",
    "outputId": "e307e411-99bc-487a-d332-392339ce1b5a"
   },
   "outputs": [
    {
     "data": {
      "image/png": "[encoded data removed]",
      "text/plain": [
       "<Figure size 1080x216 with 3 Axes>"
      ]
     },
     "metadata": {
      "needs_background": "light",
      "tags": []
     },
     "output_type": "display_data"
    },
    {
     "name": "stdout",
     "output_type": "stream",
     "text": [
      "time: 1.05 s (started: 2021-05-30 20:08:07 +00:00)\n"
     ]
    }
   ],
   "source": [
    "plt.figure(figsize=(15,3))\n",
    "\n",
    "plt.subplot(131)\n",
    "plt.scatter(X1[:, 0], X1[:, 1], c=y1_kmeans_ours.collect(), s=20, cmap='viridis')\n",
    "\n",
    "plt.subplot(132)\n",
    "plt.scatter(X2[:, 0], X2[:, 1], c=y2_kmeans_ours.collect(), s=20, cmap='viridis')\n",
    "\n",
    "plt.subplot(133)\n",
    "plt.scatter(X3[:, 0], X3[:, 1], c=y3_kmeans_ours.collect(), s=20, cmap='viridis')\n",
    "\n",
    "plt.savefig(\"ourKmeans.png\")"
   ]
  },
  {
   "cell_type": "markdown",
   "metadata": {
    "id": "IwxaqMf0m3ij"
   },
   "source": [
    "## Evaluation des performances"
   ]
  },
  {
   "cell_type": "code",
   "execution_count": 31,
   "metadata": {
    "colab": {
     "base_uri": "https://localhost:8080/"
    },
    "id": "pJLtfNrFmKes",
    "outputId": "61a60159-3adb-4f30-e214-0f53cc2bb48c"
   },
   "outputs": [
    {
     "name": "stdout",
     "output_type": "stream",
     "text": [
      "NMI - Data1 - OurKmeans : 0.8610095321297617\n",
      "NMI - Data2 - OurKmeans : 0.800002462233379\n",
      "NMI - Data3 - OurKmeans : 1.0\n",
      "time: 107 ms (started: 2021-05-30 20:05:58 +00:00)\n"
     ]
    }
   ],
   "source": [
    "print(\"NMI - Data1 - OurKmeans : \" + str(normalized_mutual_info_score(y1_true, y1_kmeans_ours.collect())))\n",
    "print(\"NMI - Data2 - OurKmeans : \" + str(normalized_mutual_info_score(y2_true, y2_kmeans_ours.collect())))\n",
    "print(\"NMI - Data3 - OurKmeans : \" + str(normalized_mutual_info_score(y3_true, y3_kmeans_ours.collect())))"
   ]
  },
  {
   "cell_type": "markdown",
   "metadata": {
    "id": "jjO_xZvQuBrb"
   },
   "source": [
    "## Temps d'execution"
   ]
  },
  {
   "cell_type": "code",
   "execution_count": 54,
   "metadata": {
    "colab": {
     "base_uri": "https://localhost:8080/"
    },
    "id": "tWl6dU8DZOfm",
    "outputId": "97717946-2124-43e1-b0ea-b7dca192ca99"
   },
   "outputs": [
    {
     "name": "stdout",
     "output_type": "stream",
     "text": [
      "CPU times: user 1.17 s, sys: 94.9 ms, total: 1.27 s\n",
      "Wall time: 5.56 s\n",
      "time: 5.57 s (started: 2021-05-30 20:14:28 +00:00)\n"
     ]
    }
   ],
   "source": [
    "%time pred1 = k_means(X1,4)"
   ]
  },
  {
   "cell_type": "code",
   "execution_count": 55,
   "metadata": {
    "colab": {
     "base_uri": "https://localhost:8080/"
    },
    "id": "_IDY9HXBm_w1",
    "outputId": "cf79f4d6-6d08-4776-b8a6-973293cc45f7"
   },
   "outputs": [
    {
     "name": "stdout",
     "output_type": "stream",
     "text": [
      "CPU times: user 382 ms, sys: 34.6 ms, total: 417 ms\n",
      "Wall time: 1.62 s\n",
      "time: 1.62 s (started: 2021-05-30 20:14:34 +00:00)\n"
     ]
    }
   ],
   "source": [
    "%time pred2 = k_means(X2,4)"
   ]
  },
  {
   "cell_type": "code",
   "execution_count": 56,
   "metadata": {
    "colab": {
     "base_uri": "https://localhost:8080/"
    },
    "id": "0vgWhTMkuF22",
    "outputId": "c9170b78-0598-44b8-980b-7d917203d4b7"
   },
   "outputs": [
    {
     "name": "stdout",
     "output_type": "stream",
     "text": [
      "CPU times: user 506 ms, sys: 41.3 ms, total: 547 ms\n",
      "Wall time: 1.69 s\n",
      "time: 1.69 s (started: 2021-05-30 20:14:36 +00:00)\n"
     ]
    }
   ],
   "source": [
    "%time pred3 = k_means(X3,4)"
   ]
  },
  {
   "cell_type": "markdown",
   "metadata": {
    "id": "YTfvIwU7nNFy"
   },
   "source": [
    "# **Utilisation de l'implémentation pour un cas pertinent**"
   ]
  },
  {
   "cell_type": "markdown",
   "metadata": {
    "id": "FZPNotUt23d-"
   },
   "source": [
    "## Importation des données"
   ]
  },
  {
   "cell_type": "code",
   "execution_count": 57,
   "metadata": {
    "colab": {
     "base_uri": "https://localhost:8080/"
    },
    "id": "hXe_Ba9RnTHq",
    "outputId": "6652978a-120e-4393-d659-41924fffdaa9"
   },
   "outputs": [
    {
     "name": "stdout",
     "output_type": "stream",
     "text": [
      "time: 19.9 ms (started: 2021-05-30 20:14:37 +00:00)\n"
     ]
    }
   ],
   "source": [
    "import pandas as pd\n",
    "dataset = pd.read_csv('data.csv')"
   ]
  },
  {
   "cell_type": "markdown",
   "metadata": {
    "id": "F69zDptI28iM"
   },
   "source": [
    "## Imputation des valeurs manquantes"
   ]
  },
  {
   "cell_type": "code",
   "execution_count": 58,
   "metadata": {
    "colab": {
     "base_uri": "https://localhost:8080/",
     "height": 1000
    },
    "id": "jl9E4VyVyS0O",
    "outputId": "52a78a79-1464-453a-9027-f4a3ab8ffdb0"
   },
   "outputs": [
    {
     "data": {
      "text/html": [
       "<div>\n",
       "<style scoped>\n",
       "    .dataframe tbody tr th:only-of-type {\n",
       "        vertical-align: middle;\n",
       "    }\n",
       "\n",
       "    .dataframe tbody tr th {\n",
       "        vertical-align: top;\n",
       "    }\n",
       "\n",
       "    .dataframe thead th {\n",
       "        text-align: right;\n",
       "    }\n",
       "</style>\n",
       "<table border=\"1\" class=\"dataframe\">\n",
       "  <thead>\n",
       "    <tr style=\"text-align: right;\">\n",
       "      <th></th>\n",
       "      <th>missing</th>\n",
       "      <th>missing_pourcent %</th>\n",
       "    </tr>\n",
       "  </thead>\n",
       "  <tbody>\n",
       "    <tr>\n",
       "      <th>id</th>\n",
       "      <td>0</td>\n",
       "      <td>0.0</td>\n",
       "    </tr>\n",
       "    <tr>\n",
       "      <th>diagnosis</th>\n",
       "      <td>0</td>\n",
       "      <td>0.0</td>\n",
       "    </tr>\n",
       "    <tr>\n",
       "      <th>radius_mean</th>\n",
       "      <td>0</td>\n",
       "      <td>0.0</td>\n",
       "    </tr>\n",
       "    <tr>\n",
       "      <th>texture_mean</th>\n",
       "      <td>0</td>\n",
       "      <td>0.0</td>\n",
       "    </tr>\n",
       "    <tr>\n",
       "      <th>perimeter_mean</th>\n",
       "      <td>0</td>\n",
       "      <td>0.0</td>\n",
       "    </tr>\n",
       "    <tr>\n",
       "      <th>area_mean</th>\n",
       "      <td>0</td>\n",
       "      <td>0.0</td>\n",
       "    </tr>\n",
       "    <tr>\n",
       "      <th>smoothness_mean</th>\n",
       "      <td>0</td>\n",
       "      <td>0.0</td>\n",
       "    </tr>\n",
       "    <tr>\n",
       "      <th>compactness_mean</th>\n",
       "      <td>0</td>\n",
       "      <td>0.0</td>\n",
       "    </tr>\n",
       "    <tr>\n",
       "      <th>concavity_mean</th>\n",
       "      <td>0</td>\n",
       "      <td>0.0</td>\n",
       "    </tr>\n",
       "    <tr>\n",
       "      <th>concave points_mean</th>\n",
       "      <td>0</td>\n",
       "      <td>0.0</td>\n",
       "    </tr>\n",
       "    <tr>\n",
       "      <th>symmetry_mean</th>\n",
       "      <td>0</td>\n",
       "      <td>0.0</td>\n",
       "    </tr>\n",
       "    <tr>\n",
       "      <th>fractal_dimension_mean</th>\n",
       "      <td>0</td>\n",
       "      <td>0.0</td>\n",
       "    </tr>\n",
       "    <tr>\n",
       "      <th>radius_se</th>\n",
       "      <td>0</td>\n",
       "      <td>0.0</td>\n",
       "    </tr>\n",
       "    <tr>\n",
       "      <th>texture_se</th>\n",
       "      <td>0</td>\n",
       "      <td>0.0</td>\n",
       "    </tr>\n",
       "    <tr>\n",
       "      <th>perimeter_se</th>\n",
       "      <td>0</td>\n",
       "      <td>0.0</td>\n",
       "    </tr>\n",
       "    <tr>\n",
       "      <th>area_se</th>\n",
       "      <td>0</td>\n",
       "      <td>0.0</td>\n",
       "    </tr>\n",
       "    <tr>\n",
       "      <th>smoothness_se</th>\n",
       "      <td>0</td>\n",
       "      <td>0.0</td>\n",
       "    </tr>\n",
       "    <tr>\n",
       "      <th>compactness_se</th>\n",
       "      <td>0</td>\n",
       "      <td>0.0</td>\n",
       "    </tr>\n",
       "    <tr>\n",
       "      <th>concavity_se</th>\n",
       "      <td>0</td>\n",
       "      <td>0.0</td>\n",
       "    </tr>\n",
       "    <tr>\n",
       "      <th>concave points_se</th>\n",
       "      <td>0</td>\n",
       "      <td>0.0</td>\n",
       "    </tr>\n",
       "    <tr>\n",
       "      <th>symmetry_se</th>\n",
       "      <td>0</td>\n",
       "      <td>0.0</td>\n",
       "    </tr>\n",
       "    <tr>\n",
       "      <th>fractal_dimension_se</th>\n",
       "      <td>0</td>\n",
       "      <td>0.0</td>\n",
       "    </tr>\n",
       "    <tr>\n",
       "      <th>radius_worst</th>\n",
       "      <td>0</td>\n",
       "      <td>0.0</td>\n",
       "    </tr>\n",
       "    <tr>\n",
       "      <th>texture_worst</th>\n",
       "      <td>0</td>\n",
       "      <td>0.0</td>\n",
       "    </tr>\n",
       "    <tr>\n",
       "      <th>perimeter_worst</th>\n",
       "      <td>0</td>\n",
       "      <td>0.0</td>\n",
       "    </tr>\n",
       "    <tr>\n",
       "      <th>area_worst</th>\n",
       "      <td>0</td>\n",
       "      <td>0.0</td>\n",
       "    </tr>\n",
       "    <tr>\n",
       "      <th>smoothness_worst</th>\n",
       "      <td>0</td>\n",
       "      <td>0.0</td>\n",
       "    </tr>\n",
       "    <tr>\n",
       "      <th>compactness_worst</th>\n",
       "      <td>0</td>\n",
       "      <td>0.0</td>\n",
       "    </tr>\n",
       "    <tr>\n",
       "      <th>concavity_worst</th>\n",
       "      <td>0</td>\n",
       "      <td>0.0</td>\n",
       "    </tr>\n",
       "    <tr>\n",
       "      <th>concave points_worst</th>\n",
       "      <td>0</td>\n",
       "      <td>0.0</td>\n",
       "    </tr>\n",
       "    <tr>\n",
       "      <th>symmetry_worst</th>\n",
       "      <td>0</td>\n",
       "      <td>0.0</td>\n",
       "    </tr>\n",
       "    <tr>\n",
       "      <th>fractal_dimension_worst</th>\n",
       "      <td>0</td>\n",
       "      <td>0.0</td>\n",
       "    </tr>\n",
       "    <tr>\n",
       "      <th>Unnamed: 32</th>\n",
       "      <td>569</td>\n",
       "      <td>100.0</td>\n",
       "    </tr>\n",
       "  </tbody>\n",
       "</table>\n",
       "</div>"
      ],
      "text/plain": [
       "                         missing  missing_pourcent %\n",
       "id                             0                 0.0\n",
       "diagnosis                      0                 0.0\n",
       "radius_mean                    0                 0.0\n",
       "texture_mean                   0                 0.0\n",
       "perimeter_mean                 0                 0.0\n",
       "area_mean                      0                 0.0\n",
       "smoothness_mean                0                 0.0\n",
       "compactness_mean               0                 0.0\n",
       "concavity_mean                 0                 0.0\n",
       "concave points_mean            0                 0.0\n",
       "symmetry_mean                  0                 0.0\n",
       "fractal_dimension_mean         0                 0.0\n",
       "radius_se                      0                 0.0\n",
       "texture_se                     0                 0.0\n",
       "perimeter_se                   0                 0.0\n",
       "area_se                        0                 0.0\n",
       "smoothness_se                  0                 0.0\n",
       "compactness_se                 0                 0.0\n",
       "concavity_se                   0                 0.0\n",
       "concave points_se              0                 0.0\n",
       "symmetry_se                    0                 0.0\n",
       "fractal_dimension_se           0                 0.0\n",
       "radius_worst                   0                 0.0\n",
       "texture_worst                  0                 0.0\n",
       "perimeter_worst                0                 0.0\n",
       "area_worst                     0                 0.0\n",
       "smoothness_worst               0                 0.0\n",
       "compactness_worst              0                 0.0\n",
       "concavity_worst                0                 0.0\n",
       "concave points_worst           0                 0.0\n",
       "symmetry_worst                 0                 0.0\n",
       "fractal_dimension_worst        0                 0.0\n",
       "Unnamed: 32                  569               100.0"
      ]
     },
     "execution_count": 58,
     "metadata": {
      "tags": []
     },
     "output_type": "execute_result"
    },
    {
     "name": "stdout",
     "output_type": "stream",
     "text": [
      "time: 29 ms (started: 2021-05-30 20:14:37 +00:00)\n"
     ]
    }
   ],
   "source": [
    "missing = dataset.isnull().sum()\n",
    "missing_pourcent = dataset.isnull().sum()/dataset.shape[0]*100\n",
    "dic = {\n",
    "    'missing':missing,\n",
    "    'missing_pourcent %':missing_pourcent\n",
    "}\n",
    "frame=pd.DataFrame(dic)\n",
    "frame"
   ]
  },
  {
   "cell_type": "code",
   "execution_count": 59,
   "metadata": {
    "colab": {
     "base_uri": "https://localhost:8080/"
    },
    "id": "kyEpvoE-yc7E",
    "outputId": "fe22c082-3dfd-4b09-95e3-4517660ee887"
   },
   "outputs": [
    {
     "name": "stdout",
     "output_type": "stream",
     "text": [
      "time: 3.76 ms (started: 2021-05-30 20:14:37 +00:00)\n"
     ]
    }
   ],
   "source": [
    "missingCols = frame[frame[\"missing\"]!=0].index.to_list()\n",
    "for col in missingCols:\n",
    "  dataset[col] = dataset[col].fillna(dataset[col].mean()) "
   ]
  },
  {
   "cell_type": "code",
   "execution_count": 60,
   "metadata": {
    "colab": {
     "base_uri": "https://localhost:8080/"
    },
    "id": "K3XWNoEzwe3I",
    "outputId": "502906cd-d6af-4fb9-c1a2-b150a29b379b"
   },
   "outputs": [
    {
     "name": "stdout",
     "output_type": "stream",
     "text": [
      "time: 21.3 ms (started: 2021-05-30 20:14:37 +00:00)\n"
     ]
    }
   ],
   "source": [
    "idCol = \"id\"\n",
    "dataset.drop([idCol], axis=1, inplace=True)\n",
    "dataset.drop(['Unnamed: 32'], axis=1, inplace=True)"
   ]
  },
  {
   "cell_type": "code",
   "execution_count": 61,
   "metadata": {
    "colab": {
     "base_uri": "https://localhost:8080/"
    },
    "id": "Hph7N_B-cxF8",
    "outputId": "3dacc8fe-c44e-4ad3-d0a5-657985f00461"
   },
   "outputs": [
    {
     "name": "stdout",
     "output_type": "stream",
     "text": [
      "time: 5.24 ms (started: 2021-05-30 20:14:38 +00:00)\n"
     ]
    }
   ],
   "source": [
    "y_class = dataset['diagnosis'].replace({\"B\":0,\"M\":1})"
   ]
  },
  {
   "cell_type": "code",
   "execution_count": 62,
   "metadata": {
    "colab": {
     "base_uri": "https://localhost:8080/"
    },
    "id": "uNWQ-sbOcru0",
    "outputId": "c4d87ae3-ec1d-4b60-a139-21edfb76081e"
   },
   "outputs": [
    {
     "name": "stdout",
     "output_type": "stream",
     "text": [
      "time: 4.04 ms (started: 2021-05-30 20:14:38 +00:00)\n"
     ]
    }
   ],
   "source": [
    "dataset.drop([\"diagnosis\"], axis=1, inplace=True)"
   ]
  },
  {
   "cell_type": "code",
   "execution_count": 63,
   "metadata": {
    "colab": {
     "base_uri": "https://localhost:8080/"
    },
    "id": "yGKPWa6DdPLW",
    "outputId": "af0d6103-8b02-4efc-df03-b3ae451cf17c"
   },
   "outputs": [
    {
     "name": "stdout",
     "output_type": "stream",
     "text": [
      "time: 4.06 ms (started: 2021-05-30 20:14:38 +00:00)\n"
     ]
    }
   ],
   "source": [
    "data = dataset.values.tolist()"
   ]
  },
  {
   "cell_type": "markdown",
   "metadata": {
    "id": "zMnizr7s3MS-"
   },
   "source": [
    "## Application des différents k-means et comparaison"
   ]
  },
  {
   "cell_type": "code",
   "execution_count": 64,
   "metadata": {
    "colab": {
     "base_uri": "https://localhost:8080/"
    },
    "id": "OnROQcPjzjUt",
    "outputId": "f8e0928c-9864-461c-c8a2-4541f005045c"
   },
   "outputs": [
    {
     "name": "stdout",
     "output_type": "stream",
     "text": [
      "CPU times: user 59.6 ms, sys: 40.6 ms, total: 100 ms\n",
      "Wall time: 61.4 ms\n",
      "NMI - Data - Sklearn : 0.46479332792160793\n",
      "time: 75.3 ms (started: 2021-05-30 20:14:38 +00:00)\n"
     ]
    }
   ],
   "source": [
    "kmeans_sklearn = Kmeans_sklearn_algo(n_clusters=2) \n",
    "%time kmeans_sklearn.fit(data)\n",
    "\n",
    "y_kmeans_sklearn = kmeans_sklearn.predict(data)\n",
    "print(\"NMI - Data - Sklearn : \" + str(normalized_mutual_info_score(np.array(y_class.tolist()), y_kmeans_sklearn)))"
   ]
  },
  {
   "cell_type": "code",
   "execution_count": 65,
   "metadata": {
    "colab": {
     "base_uri": "https://localhost:8080/"
    },
    "id": "1UYARh_H3a9f",
    "outputId": "02e29b54-9d4e-45d9-90ad-dd60d0659b83"
   },
   "outputs": [
    {
     "name": "stdout",
     "output_type": "stream",
     "text": [
      "CPU times: user 85.4 ms, sys: 18.1 ms, total: 104 ms\n",
      "Wall time: 3.21 s\n",
      "NMI - Data - Spark : 0.2902697371070435\n",
      "time: 3.5 s (started: 2021-05-30 20:14:38 +00:00)\n"
     ]
    }
   ],
   "source": [
    "t = totupleliste(np.array(data),y_class)\n",
    "rdd = sc.parallelize(t)\n",
    "df = rdd.toDF(deptColumns)\n",
    "\n",
    "%time y_kmeans_spark = kmeans_spark(df)\n",
    "y_kmeans_spark = list(y_kmeans_spark.select('prediction').toPandas()['prediction'])\n",
    "print(\"NMI - Data - Spark : \" + str(normalized_mutual_info_score(y_class, y_kmeans_spark)))"
   ]
  },
  {
   "cell_type": "code",
   "execution_count": 66,
   "metadata": {
    "colab": {
     "base_uri": "https://localhost:8080/"
    },
    "id": "0mBrWTaR5Ufx",
    "outputId": "b7f530a4-fdbc-480c-9a44-68413f09882f"
   },
   "outputs": [
    {
     "name": "stdout",
     "output_type": "stream",
     "text": [
      "NMI - Data - Ours : 0.46479332792160793\n",
      "time: 2.37 s (started: 2021-05-30 20:14:41 +00:00)\n"
     ]
    }
   ],
   "source": [
    "y_kmeans_ours = k_means(data,k=2)\n",
    "print(\"NMI - Data - Ours : \" + str(normalized_mutual_info_score(np.array(y_class.tolist()), y_kmeans_ours.collect())))"
   ]
  }
 ],
 "metadata": {
  "colab": {
   "collapsed_sections": [
    "cpuI1DeHZJhI",
    "Wtt7RQrtTxgp",
    "bvjOISsxWHm7",
    "6vUmrmLtVOIU"
   ],
   "name": "BigDataProject.ipynb",
   "provenance": []
  },
  "kernelspec": {
   "display_name": "Python 3",
   "language": "python",
   "name": "python3"
  },
  "language_info": {
   "codemirror_mode": {
    "name": "ipython",
    "version": 3
   },
   "file_extension": ".py",
   "mimetype": "text/x-python",
   "name": "python",
   "nbconvert_exporter": "python",
   "pygments_lexer": "ipython3",
   "version": "3.7.3"
  }
 },
 "nbformat": 4,
 "nbformat_minor": 1
}
